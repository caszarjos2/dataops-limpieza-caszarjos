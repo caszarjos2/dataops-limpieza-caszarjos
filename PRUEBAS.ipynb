{
 "cells": [
  {
   "cell_type": "code",
   "execution_count": 3,
   "id": "b8675d9a",
   "metadata": {},
   "outputs": [],
   "source": [
    "import psycopg2\n",
    "import pandas as pd"
   ]
  },
  {
   "cell_type": "code",
   "execution_count": 30,
   "id": "cb80bc3c",
   "metadata": {},
   "outputs": [
    {
     "name": "stderr",
     "output_type": "stream",
     "text": [
      "C:\\Users\\Jose\\AppData\\Local\\Temp\\ipykernel_23056\\4078098377.py:10: UserWarning: pandas only supports SQLAlchemy connectable (engine/connection) or database string URI or sqlite3 DBAPI2 connection. Other DBAPI2 objects are not tested. Please consider using SQLAlchemy.\n",
      "  df = pd.read_sql(query, conn)\n"
     ]
    }
   ],
   "source": [
    "conn = psycopg2.connect(\n",
    "    host=\"mgg.vps.webdock.cloud\",\n",
    "    port=5432,\n",
    "    database=\"dmc\",\n",
    "    user=\"usr_ro_dmc_rrhh_estudiantes\",\n",
    "    password=\"fZp!jHt0j6%89^B4I*L*29bz4b^\"\n",
    ")\n",
    "\n",
    "query = \"SELECT * FROM rrhh.empleado LIMIT 10;\"\n",
    "df = pd.read_sql(query, conn)\n",
    "conn.close()"
   ]
  },
  {
   "cell_type": "code",
   "execution_count": null,
   "id": "8e95e427",
   "metadata": {},
   "outputs": [
    {
     "name": "stdout",
     "output_type": "stream",
     "text": [
      "✅ Nulos por columna:\n",
      "empleado_id          0\n",
      "tip_documento        0\n",
      "num_documento        0\n",
      "nom_empleado         0\n",
      "ape_empleado         0\n",
      "cod_cargo            0\n",
      "cod_departamento     0\n",
      "mnt_salario          0\n",
      "mnt_tope_comision    6\n",
      "dtype: int64\n",
      "\n",
      "🧠 Tipos originales:\n",
      "empleado_id            int64\n",
      "tip_documento         object\n",
      "num_documento         object\n",
      "nom_empleado          object\n",
      "ape_empleado          object\n",
      "cod_cargo             object\n",
      "cod_departamento      object\n",
      "mnt_salario          float64\n",
      "mnt_tope_comision    float64\n",
      "dtype: object\n",
      "\n",
      "📦 Tipos después de convertir a str:\n",
      "empleado_id          object\n",
      "tip_documento        object\n",
      "num_documento        object\n",
      "nom_empleado         object\n",
      "ape_empleado         object\n",
      "cod_cargo            object\n",
      "cod_departamento     object\n",
      "mnt_salario          object\n",
      "mnt_tope_comision    object\n",
      "dtype: object\n"
     ]
    }
   ],
   "source": [
    "# Validaciones\n",
    "print(\"✅ Nulos por columna:\")\n",
    "print(df.isnull().sum())\n",
    "\n",
    "print(\"\\n🧠 Tipos originales:\")\n",
    "print(df.dtypes)"
   ]
  },
  {
   "cell_type": "code",
   "execution_count": 31,
   "id": "c60526f3",
   "metadata": {},
   "outputs": [],
   "source": [
    "df[\"mnt_tope_comision\"] = df[\"mnt_tope_comision\"].fillna(0)"
   ]
  },
  {
   "cell_type": "code",
   "execution_count": 36,
   "id": "01d44ead",
   "metadata": {},
   "outputs": [
    {
     "name": "stdout",
     "output_type": "stream",
     "text": [
      "empleado_id          object\n",
      "tip_documento        object\n",
      "num_documento        object\n",
      "nom_empleado         object\n",
      "ape_empleado         object\n",
      "cod_cargo            object\n",
      "cod_departamento     object\n",
      "mnt_salario          object\n",
      "mnt_tope_comision    object\n",
      "dtype: object\n"
     ]
    }
   ],
   "source": [
    "df_str = df.astype(str)\n",
    "print(df_str.dtypes)"
   ]
  },
  {
   "cell_type": "code",
   "execution_count": 37,
   "id": "faa6349e",
   "metadata": {},
   "outputs": [],
   "source": [
    "import os"
   ]
  },
  {
   "cell_type": "code",
   "execution_count": 38,
   "id": "c5bf3c57",
   "metadata": {},
   "outputs": [],
   "source": [
    "\n",
    "os.makedirs(\"data/output\", exist_ok=True)\n",
    "df.to_csv(\"data/output/empleados_limpios.csv\", index=False)"
   ]
  }
 ],
 "metadata": {
  "kernelspec": {
   "display_name": ".venv",
   "language": "python",
   "name": "python3"
  },
  "language_info": {
   "codemirror_mode": {
    "name": "ipython",
    "version": 3
   },
   "file_extension": ".py",
   "mimetype": "text/x-python",
   "name": "python",
   "nbconvert_exporter": "python",
   "pygments_lexer": "ipython3",
   "version": "3.11.9"
  }
 },
 "nbformat": 4,
 "nbformat_minor": 5
}
